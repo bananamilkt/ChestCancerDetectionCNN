{
 "cells": [
  {
   "cell_type": "markdown",
   "metadata": {},
   "source": [
    "#### Initalizing Variables and Preprocessing Datasets"
   ]
  },
  {
   "cell_type": "markdown",
   "metadata": {},
   "source": [
    "##### Packages"
   ]
  },
  {
   "cell_type": "code",
   "execution_count": 2,
   "metadata": {},
   "outputs": [],
   "source": [
    "import pywt\n",
    "import numpy as np\n",
    "import tensorflow as tf\n",
    "import matplotlib.pyplot as plt\n",
    "import tensorflow_wavelets.Layers.DWT as wavelet\n",
    "from keras.preprocessing.image import ImageDataGenerator"
   ]
  },
  {
   "cell_type": "markdown",
   "metadata": {},
   "source": [
    "##### Constents"
   ]
  },
  {
   "cell_type": "code",
   "execution_count": 3,
   "metadata": {},
   "outputs": [],
   "source": [
    "TRAIN_DATA_PATH = \"Data/train\"\n",
    "VALID_DATA_PATH = \"Data/valid\"\n",
    "TEST_DATA_PATH  = \"Data/test\"\n",
    "BATCH_SIZE      = 16\n",
    "TARGET_SIZE     = (227,227)\n",
    "INPUT_SHAPE     = [227,227,3]"
   ]
  },
  {
   "cell_type": "markdown",
   "metadata": {},
   "source": [
    "##### Data Preprocessing"
   ]
  },
  {
   "cell_type": "markdown",
   "metadata": {},
   "source": [
    "###### Training Data Preprocessing"
   ]
  },
  {
   "cell_type": "code",
   "execution_count": 4,
   "metadata": {},
   "outputs": [
    {
     "name": "stdout",
     "output_type": "stream",
     "text": [
      "Found 613 images belonging to 4 classes.\n"
     ]
    }
   ],
   "source": [
    "train_data_generator = tf.keras.preprocessing.image.ImageDataGenerator( rescale = 1.0/255.0,\n",
    "                                                                        horizontal_flip = True,\n",
    "                                                                        fill_mode = 'nearest',\n",
    "                                                                        zoom_range=0.2,\n",
    "                                                                        shear_range = 0.2,\n",
    "                                                                        width_shift_range=0.2,\n",
    "                                                                        height_shift_range=0.2,\n",
    "                                                                        rotation_range=0.4)\n",
    "\n",
    "train_data = train_data_generator.flow_from_directory(  TRAIN_DATA_PATH,\n",
    "                                                        batch_size = BATCH_SIZE,\n",
    "                                                        target_size = TARGET_SIZE,\n",
    "                                                        class_mode = 'categorical')"
   ]
  },
  {
   "cell_type": "markdown",
   "metadata": {},
   "source": [
    "###### Validation Data Preprocessing"
   ]
  },
  {
   "cell_type": "code",
   "execution_count": 6,
   "metadata": {},
   "outputs": [
    {
     "name": "stdout",
     "output_type": "stream",
     "text": [
      "Found 72 images belonging to 4 classes.\n"
     ]
    }
   ],
   "source": [
    "validation_data_generator = ImageDataGenerator(rescale = 1.0/255.0)\n",
    "\n",
    "validation_data = validation_data_generator.flow_from_directory(     VALID_DATA_PATH,\n",
    "                                                        target_size = TARGET_SIZE,\n",
    "                                                        batch_size = BATCH_SIZE,\n",
    "                                                        class_mode = 'categorical')"
   ]
  },
  {
   "cell_type": "markdown",
   "metadata": {},
   "source": [
    "#### Initalizing Convolutional Neural Networks"
   ]
  },
  {
   "cell_type": "markdown",
   "metadata": {},
   "source": [
    "##### Abstract Class"
   ]
  },
  {
   "cell_type": "code",
   "execution_count": 8,
   "metadata": {},
   "outputs": [],
   "source": [
    "class CNNModel:\n",
    "    def __init__(self, input_shape=0, model_type='', model_path=None):\n",
    "        self.model_type = model_type\n",
    "        self.history = None\n",
    "        self.history_accuracy = []\n",
    "        self.history_val_accuracy = []\n",
    "        self.history_loss = []\n",
    "        self.history_val_loss = []\n",
    "        self.input_shape = input_shape\n",
    "        self.model = tf.keras.models.Sequential()\n",
    "        if(model_path==None):\n",
    "            self.model_path = 'savedModel/CNNModel.ckpt'\n",
    "        else:\n",
    "            self.model_path = model_path\n",
    "        self.model_checkpoint = tf.keras.callbacks.ModelCheckpoint(self.model_path,save_weights_only=True,verbose=1)\n",
    "\n",
    "    def fit(self,train_data, validation_data, epochs):\n",
    "        self.history = self.model.fit(x = train_data, validation_data = validation_data, epochs = epochs, callbacks=[self.model_checkpoint])\n",
    "        self.history_accuracy.extend(self.history.history['accuracy'])\n",
    "        self.history_val_accuracy.extend(self.history.history['val_accuracy'])\n",
    "        self.history_loss.extend(self.history.history['loss'])\n",
    "        self.history_val_loss.extend(self.history.history['val_loss'])\n",
    "\n",
    "    def plotAccuracy(self):\n",
    "        if(self.history != None):\n",
    "            print(self.history.history.keys())\n",
    "            plt.plot(self.history_accuracy)\n",
    "            plt.plot(self.history_val_accuracy)\n",
    "            plt.title('model accuracy')\n",
    "            plt.ylabel('accuracy')\n",
    "            plt.xlabel('epoch')\n",
    "            plt.legend(['train','test'], loc='upper left')\n",
    "            plt.show()\n",
    "        \n",
    "    def plotLoss(self):\n",
    "        if(self.history != None):\n",
    "            plt.plot(self.history_loss)\n",
    "            plt.plot(self.history_val_loss)\n",
    "            plt.title('model loss')\n",
    "            plt.ylabel('loss')\n",
    "            plt.xlabel('epoch')\n",
    "            plt.legend(['train', 'test'], loc='upper left')\n",
    "            plt.show()\n",
    "\n",
    "    def compareAccuracy(models):\n",
    "        modelList = []\n",
    "        for model in models:\n",
    "            if(model.history != None):\n",
    "                plt.plot(model.history_accuracy)\n",
    "                modelList.append(model.model_type)\n",
    "        plt.ylabel('accuracy')\n",
    "        plt.xlabel('epoch')\n",
    "        plt.legend(modelList, loc='upper left')\n",
    "        plt.show()\n",
    "\n",
    "    def compareLoss(models):\n",
    "        modelList = []\n",
    "        for model in models:\n",
    "            if(model.history != None):\n",
    "                plt.plot(model.history_loss)\n",
    "                modelList.append(model.model_type)\n",
    "        plt.ylabel('loss')\n",
    "        plt.xlabel('epoch')\n",
    "        plt.legend(modelList, loc='upper left')\n",
    "        plt.show()\n",
    "\n",
    "    def predict(self, path):\n",
    "        classes_dir = [\"Adenocarcinoma\",\"Large cell carcinoma\",\"Normal\",\"Squamous cell carcinoma\"]\n",
    "        image = tf.keras.utils.load_img(path, target_size=TARGET_SIZE)\n",
    "        normalizedImage = tf.keras.utils.img_to_array(image)/255\n",
    "        imageArray = np.array([normalizedImage])\n",
    "        predtionResult = np.argmax(self.model.predict(imageArray))\n",
    "        print(classes_dir[predtionResult])\n",
    "\n",
    "    def load(self,model_path=None):\n",
    "        if(model_path==None):\n",
    "            self.model.load_weights(self.model_path)\n",
    "        else:\n",
    "            self.model.load_weights(model_path)"
   ]
  },
  {
   "cell_type": "markdown",
   "metadata": {},
   "source": [
    "##### AlexNet"
   ]
  },
  {
   "cell_type": "code",
   "execution_count": 9,
   "metadata": {},
   "outputs": [],
   "source": [
    "class AlexNet(CNNModel):\n",
    "    def __init__(self,input_shape=0,model_path='savedModel/AlexNet.ckpt'):\n",
    "\n",
    "        super().__init__(input_shape=input_shape,model_type=\"AlexNet\",model_path=model_path)\n",
    "        self.model.add(tf.keras.layers.Conv2D(filters=96, kernel_size=11, activation='relu', strides=4, input_shape=input_shape))\n",
    "        self.model.add(tf.keras.layers.MaxPool2D(pool_size=3,strides=2))\n",
    "        self.model.add(tf.keras.layers.Conv2D(filters=256, kernel_size=5, activation='relu'))\n",
    "        self.model.add(tf.keras.layers.MaxPool2D(pool_size=3,strides=2))\n",
    "        self.model.add(tf.keras.layers.Conv2D(filters=384, kernel_size=3, activation='relu'))\n",
    "        self.model.add(tf.keras.layers.Conv2D(filters=384, kernel_size=3, activation='relu'))\n",
    "        self.model.add(tf.keras.layers.Conv2D(filters=384, kernel_size=3, activation='relu'))\n",
    "        self.model.add(tf.keras.layers.MaxPool2D(pool_size=3,strides=2))\n",
    "        self.model.add(tf.keras.layers.Flatten())\n",
    "        self.model.add(tf.keras.layers.Dense(units=4096, activation='relu'))\n",
    "        self.model.add(tf.keras.layers.Dropout(0.5))\n",
    "        self.model.add(tf.keras.layers.Dense(units=4096, activation='relu'))\n",
    "        self.model.add(tf.keras.layers.Dropout(0.5))\n",
    "        self.model.add(tf.keras.layers.Dense(units=4, activation='softmax'))\n",
    "        self.model.compile(loss='categorical_crossentropy', optimizer=\"sgd\", metrics = ['accuracy'])"
   ]
  },
  {
   "cell_type": "markdown",
   "metadata": {},
   "source": [
    "##### Wavelet AlexNet"
   ]
  },
  {
   "cell_type": "code",
   "execution_count": 10,
   "metadata": {},
   "outputs": [],
   "source": [
    "class WaveletAlexNet(CNNModel):\n",
    "    def __init__(self,input_shape=0,model_path='savedModel/WaveletAlexNet.ckpt'):\n",
    "        opt = tf.keras.optimizers.SGD(momentum=0.9)\n",
    "\n",
    "        super().__init__(input_shape=input_shape,model_type=\"WaveletAlexNet\",model_path=model_path)\n",
    "        self.model.add(tf.keras.layers.Conv2D(filters=384, kernel_size=5, activation='relu', strides=4, input_shape=input_shape))\n",
    "\n",
    "        self.model.add(wavelet.DWT(name='bd2'))\n",
    "        self.model.add(tf.keras.layers.Reshape((112, 112, 96)))\n",
    "\n",
    "        self.model.add(tf.keras.layers.MaxPool2D(pool_size=3,strides=2))\n",
    "        self.model.add(tf.keras.layers.Conv2D(filters=256, kernel_size=5, activation='relu'))\n",
    "        self.model.add(tf.keras.layers.MaxPool2D(pool_size=3,strides=2))\n",
    "        self.model.add(tf.keras.layers.Conv2D(filters=384, kernel_size=3, activation='relu'))\n",
    "        self.model.add(tf.keras.layers.Conv2D(filters=384, kernel_size=3, activation='relu'))\n",
    "        self.model.add(tf.keras.layers.Conv2D(filters=384, kernel_size=3, activation='relu'))\n",
    "        self.model.add(tf.keras.layers.Conv2D(filters=384, kernel_size=3, activation='relu'))\n",
    "        self.model.add(tf.keras.layers.MaxPool2D(pool_size=3,strides=2))\n",
    "        self.model.add(tf.keras.layers.Flatten(input_shape = (2,2,384)))\n",
    "        self.model.add(tf.keras.layers.Dense(units=4096, activation='relu'))\n",
    "        self.model.add(tf.keras.layers.Dropout(0.5))\n",
    "        self.model.add(tf.keras.layers.Dense(units=4096, activation='relu'))\n",
    "        self.model.add(tf.keras.layers.Dropout(0.5))\n",
    "        self.model.add(tf.keras.layers.Dense(units=4, activation='softmax'))\n",
    "        self.model.compile(loss='categorical_crossentropy', optimizer=\"sgd\", metrics = ['accuracy'])"
   ]
  },
  {
   "cell_type": "markdown",
   "metadata": {},
   "source": [
    "##### ResNet"
   ]
  },
  {
   "cell_type": "code",
   "execution_count": 8,
   "metadata": {},
   "outputs": [],
   "source": [
    "class ResNet(CNNModel):\n",
    "    def __init__(self,input_shape=0,model_path='savedModel/ResNet.h5'):\n",
    "        if(input_shape==0):\n",
    "            super().__init__(input_shape=input_shape,model_type=\"ResNet\",model_path=model_path)\n",
    "        else:\n",
    "            super().__init__(input_shape=input_shape,model_type=\"ResNet\")\n",
    "            inputs = tf.keras.Input(shape=input_shape)\n",
    "            x = self.convolutional_block(inputs, 96)\n",
    "            res = self.residualBlock(x=x, kernel_size=11, filters=96)\n",
    "            x = self.convolutional_block(x, 96)\n",
    "            x = tf.keras.layers.Add()([x, res])\n",
    "        \n",
    "            x = tf.keras.layers.Flatten()(x)\n",
    "            x = tf.keras.layers.Dense(units=4096, activation='relu')(x)\n",
    "            x = tf.keras.layers.Dropout(0.5)(x)\n",
    "            outputs = tf.keras.layers.Dense(units=4, activation='softmax')(x)\n",
    "\n",
    "            self.model = tf.keras.models.Model(inputs=inputs, outputs=outputs)\n",
    "\n",
    "            self.model.compile(loss='categorical_crossentropy', optimizer=\"sgd\", metrics = ['accuracy'])\n",
    "\n",
    "    def residualBlock(self, x, kernel_size, filters):\n",
    "        fx = tf.keras.layers.Conv2D(filters, kernel_size, activation='relu', padding='same')(x)\n",
    "        fx = tf.keras.layers.BatchNormalization()(fx)\n",
    "        fx = tf.keras.layers.Conv2D(filters, kernel_size, padding='same')(fx)\n",
    "        out = tf.keras.layers.Add()([x,fx])\n",
    "        out = tf.keras.layers.ReLU()(out)\n",
    "        out = tf.keras.layers.BatchNormalization()(out)\n",
    "        return out\n",
    "\n",
    "    def convolutional_block(self,x, filter):\n",
    "        x_skip = x\n",
    "        x = tf.keras.layers.Conv2D(filter, (3,3), padding = 'same', strides = (2,2))(x)\n",
    "        x = tf.keras.layers.BatchNormalization(axis=3)(x)\n",
    "        x = tf.keras.layers.Activation('relu')(x)\n",
    "        x = tf.keras.layers.Conv2D(filter, (3,3), padding = 'same')(x)\n",
    "        x = tf.keras.layers.BatchNormalization(axis=3)(x)\n",
    "        x_skip = tf.keras.layers.Conv2D(filter, (1,1), strides = (2,2))(x_skip)\n",
    "        x = tf.keras.layers.Add()([x, x_skip])     \n",
    "        x = tf.keras.layers.Activation('relu')(x)\n",
    "        return x\n",
    "\n"
   ]
  },
  {
   "cell_type": "markdown",
   "metadata": {},
   "source": [
    "#### MAIN"
   ]
  },
  {
   "cell_type": "code",
   "execution_count": 11,
   "metadata": {},
   "outputs": [],
   "source": [
    "alexNet = AlexNet(INPUT_SHAPE)"
   ]
  },
  {
   "cell_type": "code",
   "execution_count": 12,
   "metadata": {},
   "outputs": [],
   "source": [
    "alexNet.load()"
   ]
  },
  {
   "cell_type": "code",
   "execution_count": 102,
   "metadata": {},
   "outputs": [],
   "source": [
    "waveletAlexNet = WaveletAlexNet(INPUT_SHAPE)"
   ]
  },
  {
   "cell_type": "code",
   "execution_count": 133,
   "metadata": {},
   "outputs": [
    {
     "name": "stdout",
     "output_type": "stream",
     "text": [
      "39/39 [==============================] - ETA: 0s - loss: 0.0483 - accuracy: 0.9853\n",
      "Epoch 1: saving model to savedModel\\AlexNet.ckpt\n",
      "39/39 [==============================] - 5s 135ms/step - loss: 0.0483 - accuracy: 0.9853 - val_loss: 0.6038 - val_accuracy: 0.9167\n"
     ]
    }
   ],
   "source": [
    "alexNet.fit(train_data, validation_data, 1)"
   ]
  },
  {
   "cell_type": "code",
   "execution_count": 117,
   "metadata": {},
   "outputs": [
    {
     "name": "stdout",
     "output_type": "stream",
     "text": [
      "Epoch 1/128\n",
      "39/39 [==============================] - ETA: 0s - loss: 0.5874 - accuracy: 0.7635\n",
      "Epoch 1: saving model to savedModel\\WaveletAlexNet.ckpt\n",
      "39/39 [==============================] - 6s 160ms/step - loss: 0.5874 - accuracy: 0.7635 - val_loss: 0.7935 - val_accuracy: 0.6667\n",
      "Epoch 2/128\n",
      "39/39 [==============================] - ETA: 0s - loss: 0.6138 - accuracy: 0.7471\n",
      "Epoch 2: saving model to savedModel\\WaveletAlexNet.ckpt\n",
      "39/39 [==============================] - 6s 162ms/step - loss: 0.6138 - accuracy: 0.7471 - val_loss: 0.8626 - val_accuracy: 0.6111\n",
      "Epoch 3/128\n",
      "39/39 [==============================] - ETA: 0s - loss: 0.6330 - accuracy: 0.7325\n",
      "Epoch 3: saving model to savedModel\\WaveletAlexNet.ckpt\n",
      "39/39 [==============================] - 6s 164ms/step - loss: 0.6330 - accuracy: 0.7325 - val_loss: 0.8291 - val_accuracy: 0.6667\n",
      "Epoch 4/128\n",
      "39/39 [==============================] - ETA: 0s - loss: 0.6197 - accuracy: 0.7162\n",
      "Epoch 4: saving model to savedModel\\WaveletAlexNet.ckpt\n",
      "39/39 [==============================] - 7s 175ms/step - loss: 0.6197 - accuracy: 0.7162 - val_loss: 0.7118 - val_accuracy: 0.6389\n",
      "Epoch 5/128\n",
      "39/39 [==============================] - ETA: 0s - loss: 0.6033 - accuracy: 0.7390\n",
      "Epoch 5: saving model to savedModel\\WaveletAlexNet.ckpt\n",
      "39/39 [==============================] - 7s 175ms/step - loss: 0.6033 - accuracy: 0.7390 - val_loss: 0.7160 - val_accuracy: 0.6944\n",
      "Epoch 6/128\n",
      "39/39 [==============================] - ETA: 0s - loss: 0.6074 - accuracy: 0.7406\n",
      "Epoch 6: saving model to savedModel\\WaveletAlexNet.ckpt\n",
      "39/39 [==============================] - 6s 161ms/step - loss: 0.6074 - accuracy: 0.7406 - val_loss: 0.6958 - val_accuracy: 0.6528\n",
      "Epoch 7/128\n",
      "39/39 [==============================] - ETA: 0s - loss: 0.5783 - accuracy: 0.7618\n",
      "Epoch 7: saving model to savedModel\\WaveletAlexNet.ckpt\n",
      "39/39 [==============================] - 6s 161ms/step - loss: 0.5783 - accuracy: 0.7618 - val_loss: 0.9003 - val_accuracy: 0.6111\n",
      "Epoch 8/128\n",
      "39/39 [==============================] - ETA: 0s - loss: 0.6143 - accuracy: 0.7586\n",
      "Epoch 8: saving model to savedModel\\WaveletAlexNet.ckpt\n",
      "39/39 [==============================] - 6s 155ms/step - loss: 0.6143 - accuracy: 0.7586 - val_loss: 0.7861 - val_accuracy: 0.6389\n",
      "Epoch 9/128\n",
      "39/39 [==============================] - ETA: 0s - loss: 0.5676 - accuracy: 0.7504\n",
      "Epoch 9: saving model to savedModel\\WaveletAlexNet.ckpt\n",
      "39/39 [==============================] - 7s 168ms/step - loss: 0.5676 - accuracy: 0.7504 - val_loss: 0.7894 - val_accuracy: 0.6667\n",
      "Epoch 10/128\n",
      "39/39 [==============================] - ETA: 0s - loss: 0.6213 - accuracy: 0.7259\n",
      "Epoch 10: saving model to savedModel\\WaveletAlexNet.ckpt\n",
      "39/39 [==============================] - 6s 165ms/step - loss: 0.6213 - accuracy: 0.7259 - val_loss: 0.8233 - val_accuracy: 0.6528\n",
      "Epoch 11/128\n",
      "39/39 [==============================] - ETA: 0s - loss: 0.5943 - accuracy: 0.7471\n",
      "Epoch 11: saving model to savedModel\\WaveletAlexNet.ckpt\n",
      "39/39 [==============================] - 7s 166ms/step - loss: 0.5943 - accuracy: 0.7471 - val_loss: 0.7614 - val_accuracy: 0.6806\n",
      "Epoch 12/128\n",
      "39/39 [==============================] - ETA: 0s - loss: 0.6155 - accuracy: 0.7406\n",
      "Epoch 12: saving model to savedModel\\WaveletAlexNet.ckpt\n",
      "39/39 [==============================] - 6s 157ms/step - loss: 0.6155 - accuracy: 0.7406 - val_loss: 0.8725 - val_accuracy: 0.5972\n",
      "Epoch 13/128\n",
      "39/39 [==============================] - ETA: 0s - loss: 0.5693 - accuracy: 0.7749\n",
      "Epoch 13: saving model to savedModel\\WaveletAlexNet.ckpt\n",
      "39/39 [==============================] - 6s 157ms/step - loss: 0.5693 - accuracy: 0.7749 - val_loss: 0.7866 - val_accuracy: 0.6667\n",
      "Epoch 14/128\n",
      "39/39 [==============================] - ETA: 0s - loss: 0.5993 - accuracy: 0.7700\n",
      "Epoch 14: saving model to savedModel\\WaveletAlexNet.ckpt\n",
      "39/39 [==============================] - 6s 156ms/step - loss: 0.5993 - accuracy: 0.7700 - val_loss: 1.0187 - val_accuracy: 0.5417\n",
      "Epoch 15/128\n",
      "39/39 [==============================] - ETA: 0s - loss: 0.5794 - accuracy: 0.7504\n",
      "Epoch 15: saving model to savedModel\\WaveletAlexNet.ckpt\n",
      "39/39 [==============================] - 7s 166ms/step - loss: 0.5794 - accuracy: 0.7504 - val_loss: 0.8318 - val_accuracy: 0.6250\n",
      "Epoch 16/128\n",
      "39/39 [==============================] - ETA: 0s - loss: 0.5691 - accuracy: 0.7863\n",
      "Epoch 16: saving model to savedModel\\WaveletAlexNet.ckpt\n",
      "39/39 [==============================] - 7s 169ms/step - loss: 0.5691 - accuracy: 0.7863 - val_loss: 0.7600 - val_accuracy: 0.6806\n",
      "Epoch 17/128\n",
      "39/39 [==============================] - ETA: 0s - loss: 0.5642 - accuracy: 0.7684\n",
      "Epoch 17: saving model to savedModel\\WaveletAlexNet.ckpt\n",
      "39/39 [==============================] - 7s 169ms/step - loss: 0.5642 - accuracy: 0.7684 - val_loss: 0.7698 - val_accuracy: 0.6528\n",
      "Epoch 18/128\n",
      "39/39 [==============================] - ETA: 0s - loss: 0.5787 - accuracy: 0.7635\n",
      "Epoch 18: saving model to savedModel\\WaveletAlexNet.ckpt\n",
      "39/39 [==============================] - 6s 157ms/step - loss: 0.5787 - accuracy: 0.7635 - val_loss: 0.8200 - val_accuracy: 0.6528\n",
      "Epoch 19/128\n",
      "39/39 [==============================] - ETA: 0s - loss: 0.5660 - accuracy: 0.7537\n",
      "Epoch 19: saving model to savedModel\\WaveletAlexNet.ckpt\n",
      "39/39 [==============================] - 6s 157ms/step - loss: 0.5660 - accuracy: 0.7537 - val_loss: 0.6832 - val_accuracy: 0.6806\n",
      "Epoch 20/128\n",
      "39/39 [==============================] - ETA: 0s - loss: 0.5982 - accuracy: 0.7406\n",
      "Epoch 20: saving model to savedModel\\WaveletAlexNet.ckpt\n",
      "39/39 [==============================] - 6s 159ms/step - loss: 0.5982 - accuracy: 0.7406 - val_loss: 0.6788 - val_accuracy: 0.6944\n",
      "Epoch 21/128\n",
      "39/39 [==============================] - ETA: 0s - loss: 0.5996 - accuracy: 0.7406\n",
      "Epoch 21: saving model to savedModel\\WaveletAlexNet.ckpt\n",
      "39/39 [==============================] - 6s 162ms/step - loss: 0.5996 - accuracy: 0.7406 - val_loss: 0.7281 - val_accuracy: 0.6806\n",
      "Epoch 22/128\n",
      "39/39 [==============================] - ETA: 0s - loss: 0.5262 - accuracy: 0.7830\n",
      "Epoch 22: saving model to savedModel\\WaveletAlexNet.ckpt\n",
      "39/39 [==============================] - 7s 170ms/step - loss: 0.5262 - accuracy: 0.7830 - val_loss: 0.7783 - val_accuracy: 0.6250\n",
      "Epoch 23/128\n",
      "39/39 [==============================] - ETA: 0s - loss: 0.5430 - accuracy: 0.7684\n",
      "Epoch 23: saving model to savedModel\\WaveletAlexNet.ckpt\n",
      "39/39 [==============================] - 7s 173ms/step - loss: 0.5430 - accuracy: 0.7684 - val_loss: 0.7578 - val_accuracy: 0.6389\n",
      "Epoch 24/128\n",
      "39/39 [==============================] - ETA: 0s - loss: 0.5267 - accuracy: 0.7798\n",
      "Epoch 24: saving model to savedModel\\WaveletAlexNet.ckpt\n",
      "39/39 [==============================] - 6s 156ms/step - loss: 0.5267 - accuracy: 0.7798 - val_loss: 0.6781 - val_accuracy: 0.7361\n",
      "Epoch 25/128\n",
      "39/39 [==============================] - ETA: 0s - loss: 0.5468 - accuracy: 0.7684\n",
      "Epoch 25: saving model to savedModel\\WaveletAlexNet.ckpt\n",
      "39/39 [==============================] - 6s 158ms/step - loss: 0.5468 - accuracy: 0.7684 - val_loss: 0.7542 - val_accuracy: 0.6528\n",
      "Epoch 26/128\n",
      "39/39 [==============================] - ETA: 0s - loss: 0.5312 - accuracy: 0.7945\n",
      "Epoch 26: saving model to savedModel\\WaveletAlexNet.ckpt\n",
      "39/39 [==============================] - 6s 160ms/step - loss: 0.5312 - accuracy: 0.7945 - val_loss: 0.8120 - val_accuracy: 0.6250\n",
      "Epoch 27/128\n",
      "39/39 [==============================] - ETA: 0s - loss: 0.5480 - accuracy: 0.7781\n",
      "Epoch 27: saving model to savedModel\\WaveletAlexNet.ckpt\n",
      "39/39 [==============================] - 6s 164ms/step - loss: 0.5480 - accuracy: 0.7781 - val_loss: 0.6865 - val_accuracy: 0.5833\n",
      "Epoch 28/128\n",
      "39/39 [==============================] - ETA: 0s - loss: 0.5509 - accuracy: 0.7635\n",
      "Epoch 28: saving model to savedModel\\WaveletAlexNet.ckpt\n",
      "39/39 [==============================] - 6s 160ms/step - loss: 0.5509 - accuracy: 0.7635 - val_loss: 0.6828 - val_accuracy: 0.6806\n",
      "Epoch 29/128\n",
      "39/39 [==============================] - ETA: 0s - loss: 0.5698 - accuracy: 0.7635\n",
      "Epoch 29: saving model to savedModel\\WaveletAlexNet.ckpt\n",
      "39/39 [==============================] - 7s 171ms/step - loss: 0.5698 - accuracy: 0.7635 - val_loss: 0.8322 - val_accuracy: 0.6528\n",
      "Epoch 30/128\n",
      "39/39 [==============================] - ETA: 0s - loss: 0.5517 - accuracy: 0.7716\n",
      "Epoch 30: saving model to savedModel\\WaveletAlexNet.ckpt\n",
      "39/39 [==============================] - 6s 155ms/step - loss: 0.5517 - accuracy: 0.7716 - val_loss: 0.7954 - val_accuracy: 0.5972\n",
      "Epoch 31/128\n",
      "39/39 [==============================] - ETA: 0s - loss: 0.5262 - accuracy: 0.7830\n",
      "Epoch 31: saving model to savedModel\\WaveletAlexNet.ckpt\n",
      "39/39 [==============================] - 6s 161ms/step - loss: 0.5262 - accuracy: 0.7830 - val_loss: 1.1203 - val_accuracy: 0.5278\n",
      "Epoch 32/128\n",
      "39/39 [==============================] - ETA: 0s - loss: 0.5426 - accuracy: 0.7749\n",
      "Epoch 32: saving model to savedModel\\WaveletAlexNet.ckpt\n",
      "39/39 [==============================] - 6s 156ms/step - loss: 0.5426 - accuracy: 0.7749 - val_loss: 0.6814 - val_accuracy: 0.6667\n",
      "Epoch 33/128\n",
      "39/39 [==============================] - ETA: 0s - loss: 0.5400 - accuracy: 0.7814\n",
      "Epoch 33: saving model to savedModel\\WaveletAlexNet.ckpt\n",
      "39/39 [==============================] - 7s 170ms/step - loss: 0.5400 - accuracy: 0.7814 - val_loss: 0.7218 - val_accuracy: 0.6806\n",
      "Epoch 34/128\n",
      "39/39 [==============================] - ETA: 0s - loss: 0.5520 - accuracy: 0.7569\n",
      "Epoch 34: saving model to savedModel\\WaveletAlexNet.ckpt\n",
      "39/39 [==============================] - 7s 167ms/step - loss: 0.5520 - accuracy: 0.7569 - val_loss: 0.8678 - val_accuracy: 0.6111\n",
      "Epoch 35/128\n",
      "39/39 [==============================] - ETA: 0s - loss: 0.5264 - accuracy: 0.7586\n",
      "Epoch 35: saving model to savedModel\\WaveletAlexNet.ckpt\n",
      "39/39 [==============================] - 7s 170ms/step - loss: 0.5264 - accuracy: 0.7586 - val_loss: 0.8102 - val_accuracy: 0.6111\n",
      "Epoch 36/128\n",
      "39/39 [==============================] - ETA: 0s - loss: 0.5041 - accuracy: 0.7977\n",
      "Epoch 36: saving model to savedModel\\WaveletAlexNet.ckpt\n",
      "39/39 [==============================] - 6s 159ms/step - loss: 0.5041 - accuracy: 0.7977 - val_loss: 0.6524 - val_accuracy: 0.6667\n",
      "Epoch 37/128\n",
      "39/39 [==============================] - ETA: 0s - loss: 0.4927 - accuracy: 0.8042\n",
      "Epoch 37: saving model to savedModel\\WaveletAlexNet.ckpt\n",
      "39/39 [==============================] - 6s 155ms/step - loss: 0.4927 - accuracy: 0.8042 - val_loss: 0.7621 - val_accuracy: 0.6944\n",
      "Epoch 38/128\n",
      "39/39 [==============================] - ETA: 0s - loss: 0.5281 - accuracy: 0.7912\n",
      "Epoch 38: saving model to savedModel\\WaveletAlexNet.ckpt\n",
      "39/39 [==============================] - 6s 158ms/step - loss: 0.5281 - accuracy: 0.7912 - val_loss: 0.5988 - val_accuracy: 0.7361\n",
      "Epoch 39/128\n",
      "39/39 [==============================] - ETA: 0s - loss: 0.4909 - accuracy: 0.8010\n",
      "Epoch 39: saving model to savedModel\\WaveletAlexNet.ckpt\n",
      "39/39 [==============================] - 6s 164ms/step - loss: 0.4909 - accuracy: 0.8010 - val_loss: 0.6006 - val_accuracy: 0.7361\n",
      "Epoch 40/128\n",
      "39/39 [==============================] - ETA: 0s - loss: 0.4912 - accuracy: 0.7896\n",
      "Epoch 40: saving model to savedModel\\WaveletAlexNet.ckpt\n",
      "39/39 [==============================] - 7s 168ms/step - loss: 0.4912 - accuracy: 0.7896 - val_loss: 0.6489 - val_accuracy: 0.6806\n",
      "Epoch 41/128\n",
      "39/39 [==============================] - ETA: 0s - loss: 0.4933 - accuracy: 0.7977\n",
      "Epoch 41: saving model to savedModel\\WaveletAlexNet.ckpt\n",
      "39/39 [==============================] - 7s 169ms/step - loss: 0.4933 - accuracy: 0.7977 - val_loss: 0.7051 - val_accuracy: 0.6944\n",
      "Epoch 42/128\n",
      "39/39 [==============================] - ETA: 0s - loss: 0.5003 - accuracy: 0.8042\n",
      "Epoch 42: saving model to savedModel\\WaveletAlexNet.ckpt\n",
      "39/39 [==============================] - 6s 155ms/step - loss: 0.5003 - accuracy: 0.8042 - val_loss: 0.6071 - val_accuracy: 0.7639\n",
      "Epoch 43/128\n",
      "39/39 [==============================] - ETA: 0s - loss: 0.4626 - accuracy: 0.8108\n",
      "Epoch 43: saving model to savedModel\\WaveletAlexNet.ckpt\n",
      "39/39 [==============================] - 6s 157ms/step - loss: 0.4626 - accuracy: 0.8108 - val_loss: 0.9394 - val_accuracy: 0.6667\n",
      "Epoch 44/128\n",
      "39/39 [==============================] - ETA: 0s - loss: 0.5109 - accuracy: 0.7765\n",
      "Epoch 44: saving model to savedModel\\WaveletAlexNet.ckpt\n",
      "39/39 [==============================] - 6s 154ms/step - loss: 0.5109 - accuracy: 0.7765 - val_loss: 0.8643 - val_accuracy: 0.6389\n",
      "Epoch 45/128\n",
      "39/39 [==============================] - ETA: 0s - loss: 0.4920 - accuracy: 0.7896\n",
      "Epoch 45: saving model to savedModel\\WaveletAlexNet.ckpt\n",
      "39/39 [==============================] - 7s 170ms/step - loss: 0.4920 - accuracy: 0.7896 - val_loss: 0.5887 - val_accuracy: 0.7083\n",
      "Epoch 46/128\n",
      "39/39 [==============================] - ETA: 0s - loss: 0.5234 - accuracy: 0.7732\n",
      "Epoch 46: saving model to savedModel\\WaveletAlexNet.ckpt\n",
      "39/39 [==============================] - 7s 166ms/step - loss: 0.5234 - accuracy: 0.7732 - val_loss: 0.6365 - val_accuracy: 0.6806\n",
      "Epoch 47/128\n",
      " 3/39 [=>............................] - ETA: 3s - loss: 0.4306 - accuracy: 0.8542"
     ]
    },
    {
     "ename": "KeyboardInterrupt",
     "evalue": "",
     "output_type": "error",
     "traceback": [
      "\u001b[1;31m---------------------------------------------------------------------------\u001b[0m",
      "\u001b[1;31mKeyboardInterrupt\u001b[0m                         Traceback (most recent call last)",
      "\u001b[1;32mk:\\PY_DEV\\PROJECTs\\ChestCancerDetection\\CNNs.ipynb Cell 24'\u001b[0m in \u001b[0;36m<cell line: 1>\u001b[1;34m()\u001b[0m\n\u001b[1;32m----> <a href='vscode-notebook-cell:/k%3A/PY_DEV/PROJECTs/ChestCancerDetection/CNNs.ipynb#ch0000033?line=0'>1</a>\u001b[0m waveletAlexNet\u001b[39m.\u001b[39;49mfit(train_data, validation_data, \u001b[39m128\u001b[39;49m)\n",
      "\u001b[1;32mk:\\PY_DEV\\PROJECTs\\ChestCancerDetection\\CNNs.ipynb Cell 13'\u001b[0m in \u001b[0;36mCNNModel.fit\u001b[1;34m(self, train_data, validation_data, epochs)\u001b[0m\n\u001b[0;32m     <a href='vscode-notebook-cell:/k%3A/PY_DEV/PROJECTs/ChestCancerDetection/CNNs.ipynb#ch0000012?line=16'>17</a>\u001b[0m \u001b[39mdef\u001b[39;00m \u001b[39mfit\u001b[39m(\u001b[39mself\u001b[39m,train_data, validation_data, epochs):\n\u001b[1;32m---> <a href='vscode-notebook-cell:/k%3A/PY_DEV/PROJECTs/ChestCancerDetection/CNNs.ipynb#ch0000012?line=17'>18</a>\u001b[0m     \u001b[39mself\u001b[39m\u001b[39m.\u001b[39mhistory \u001b[39m=\u001b[39m \u001b[39mself\u001b[39;49m\u001b[39m.\u001b[39;49mmodel\u001b[39m.\u001b[39;49mfit(x \u001b[39m=\u001b[39;49m train_data, validation_data \u001b[39m=\u001b[39;49m validation_data, epochs \u001b[39m=\u001b[39;49m epochs, callbacks\u001b[39m=\u001b[39;49m[\u001b[39mself\u001b[39;49m\u001b[39m.\u001b[39;49mmodel_checkpoint])\n\u001b[0;32m     <a href='vscode-notebook-cell:/k%3A/PY_DEV/PROJECTs/ChestCancerDetection/CNNs.ipynb#ch0000012?line=18'>19</a>\u001b[0m     \u001b[39mself\u001b[39m\u001b[39m.\u001b[39mhistory_accuracy\u001b[39m.\u001b[39mextend(\u001b[39mself\u001b[39m\u001b[39m.\u001b[39mhistory\u001b[39m.\u001b[39mhistory[\u001b[39m'\u001b[39m\u001b[39maccuracy\u001b[39m\u001b[39m'\u001b[39m])\n\u001b[0;32m     <a href='vscode-notebook-cell:/k%3A/PY_DEV/PROJECTs/ChestCancerDetection/CNNs.ipynb#ch0000012?line=19'>20</a>\u001b[0m     \u001b[39mself\u001b[39m\u001b[39m.\u001b[39mhistory_val_accuracy\u001b[39m.\u001b[39mextend(\u001b[39mself\u001b[39m\u001b[39m.\u001b[39mhistory\u001b[39m.\u001b[39mhistory[\u001b[39m'\u001b[39m\u001b[39mval_accuracy\u001b[39m\u001b[39m'\u001b[39m])\n",
      "File \u001b[1;32mc:\\Users\\lance\\AppData\\Local\\Programs\\Python\\Python310\\lib\\site-packages\\keras\\utils\\traceback_utils.py:64\u001b[0m, in \u001b[0;36mfilter_traceback.<locals>.error_handler\u001b[1;34m(*args, **kwargs)\u001b[0m\n\u001b[0;32m     62\u001b[0m filtered_tb \u001b[39m=\u001b[39m \u001b[39mNone\u001b[39;00m\n\u001b[0;32m     63\u001b[0m \u001b[39mtry\u001b[39;00m:\n\u001b[1;32m---> 64\u001b[0m   \u001b[39mreturn\u001b[39;00m fn(\u001b[39m*\u001b[39margs, \u001b[39m*\u001b[39m\u001b[39m*\u001b[39mkwargs)\n\u001b[0;32m     65\u001b[0m \u001b[39mexcept\u001b[39;00m \u001b[39mException\u001b[39;00m \u001b[39mas\u001b[39;00m e:  \u001b[39m# pylint: disable=broad-except\u001b[39;00m\n\u001b[0;32m     66\u001b[0m   filtered_tb \u001b[39m=\u001b[39m _process_traceback_frames(e\u001b[39m.\u001b[39m__traceback__)\n",
      "File \u001b[1;32mc:\\Users\\lance\\AppData\\Local\\Programs\\Python\\Python310\\lib\\site-packages\\keras\\engine\\training.py:1409\u001b[0m, in \u001b[0;36mModel.fit\u001b[1;34m(self, x, y, batch_size, epochs, verbose, callbacks, validation_split, validation_data, shuffle, class_weight, sample_weight, initial_epoch, steps_per_epoch, validation_steps, validation_batch_size, validation_freq, max_queue_size, workers, use_multiprocessing)\u001b[0m\n\u001b[0;32m   1402\u001b[0m \u001b[39mwith\u001b[39;00m tf\u001b[39m.\u001b[39mprofiler\u001b[39m.\u001b[39mexperimental\u001b[39m.\u001b[39mTrace(\n\u001b[0;32m   1403\u001b[0m     \u001b[39m'\u001b[39m\u001b[39mtrain\u001b[39m\u001b[39m'\u001b[39m,\n\u001b[0;32m   1404\u001b[0m     epoch_num\u001b[39m=\u001b[39mepoch,\n\u001b[0;32m   1405\u001b[0m     step_num\u001b[39m=\u001b[39mstep,\n\u001b[0;32m   1406\u001b[0m     batch_size\u001b[39m=\u001b[39mbatch_size,\n\u001b[0;32m   1407\u001b[0m     _r\u001b[39m=\u001b[39m\u001b[39m1\u001b[39m):\n\u001b[0;32m   1408\u001b[0m   callbacks\u001b[39m.\u001b[39mon_train_batch_begin(step)\n\u001b[1;32m-> 1409\u001b[0m   tmp_logs \u001b[39m=\u001b[39m \u001b[39mself\u001b[39;49m\u001b[39m.\u001b[39;49mtrain_function(iterator)\n\u001b[0;32m   1410\u001b[0m   \u001b[39mif\u001b[39;00m data_handler\u001b[39m.\u001b[39mshould_sync:\n\u001b[0;32m   1411\u001b[0m     context\u001b[39m.\u001b[39masync_wait()\n",
      "File \u001b[1;32mc:\\Users\\lance\\AppData\\Local\\Programs\\Python\\Python310\\lib\\site-packages\\tensorflow\\python\\util\\traceback_utils.py:150\u001b[0m, in \u001b[0;36mfilter_traceback.<locals>.error_handler\u001b[1;34m(*args, **kwargs)\u001b[0m\n\u001b[0;32m    148\u001b[0m filtered_tb \u001b[39m=\u001b[39m \u001b[39mNone\u001b[39;00m\n\u001b[0;32m    149\u001b[0m \u001b[39mtry\u001b[39;00m:\n\u001b[1;32m--> 150\u001b[0m   \u001b[39mreturn\u001b[39;00m fn(\u001b[39m*\u001b[39margs, \u001b[39m*\u001b[39m\u001b[39m*\u001b[39mkwargs)\n\u001b[0;32m    151\u001b[0m \u001b[39mexcept\u001b[39;00m \u001b[39mException\u001b[39;00m \u001b[39mas\u001b[39;00m e:\n\u001b[0;32m    152\u001b[0m   filtered_tb \u001b[39m=\u001b[39m _process_traceback_frames(e\u001b[39m.\u001b[39m__traceback__)\n",
      "File \u001b[1;32mc:\\Users\\lance\\AppData\\Local\\Programs\\Python\\Python310\\lib\\site-packages\\tensorflow\\python\\eager\\def_function.py:915\u001b[0m, in \u001b[0;36mFunction.__call__\u001b[1;34m(self, *args, **kwds)\u001b[0m\n\u001b[0;32m    912\u001b[0m compiler \u001b[39m=\u001b[39m \u001b[39m\"\u001b[39m\u001b[39mxla\u001b[39m\u001b[39m\"\u001b[39m \u001b[39mif\u001b[39;00m \u001b[39mself\u001b[39m\u001b[39m.\u001b[39m_jit_compile \u001b[39melse\u001b[39;00m \u001b[39m\"\u001b[39m\u001b[39mnonXla\u001b[39m\u001b[39m\"\u001b[39m\n\u001b[0;32m    914\u001b[0m \u001b[39mwith\u001b[39;00m OptionalXlaContext(\u001b[39mself\u001b[39m\u001b[39m.\u001b[39m_jit_compile):\n\u001b[1;32m--> 915\u001b[0m   result \u001b[39m=\u001b[39m \u001b[39mself\u001b[39m\u001b[39m.\u001b[39m_call(\u001b[39m*\u001b[39margs, \u001b[39m*\u001b[39m\u001b[39m*\u001b[39mkwds)\n\u001b[0;32m    917\u001b[0m new_tracing_count \u001b[39m=\u001b[39m \u001b[39mself\u001b[39m\u001b[39m.\u001b[39mexperimental_get_tracing_count()\n\u001b[0;32m    918\u001b[0m without_tracing \u001b[39m=\u001b[39m (tracing_count \u001b[39m==\u001b[39m new_tracing_count)\n",
      "File \u001b[1;32mc:\\Users\\lance\\AppData\\Local\\Programs\\Python\\Python310\\lib\\site-packages\\tensorflow\\python\\eager\\def_function.py:947\u001b[0m, in \u001b[0;36mFunction._call\u001b[1;34m(self, *args, **kwds)\u001b[0m\n\u001b[0;32m    944\u001b[0m   \u001b[39mself\u001b[39m\u001b[39m.\u001b[39m_lock\u001b[39m.\u001b[39mrelease()\n\u001b[0;32m    945\u001b[0m   \u001b[39m# In this case we have created variables on the first call, so we run the\u001b[39;00m\n\u001b[0;32m    946\u001b[0m   \u001b[39m# defunned version which is guaranteed to never create variables.\u001b[39;00m\n\u001b[1;32m--> 947\u001b[0m   \u001b[39mreturn\u001b[39;00m \u001b[39mself\u001b[39m\u001b[39m.\u001b[39m_stateless_fn(\u001b[39m*\u001b[39margs, \u001b[39m*\u001b[39m\u001b[39m*\u001b[39mkwds)  \u001b[39m# pylint: disable=not-callable\u001b[39;00m\n\u001b[0;32m    948\u001b[0m \u001b[39melif\u001b[39;00m \u001b[39mself\u001b[39m\u001b[39m.\u001b[39m_stateful_fn \u001b[39mis\u001b[39;00m \u001b[39mnot\u001b[39;00m \u001b[39mNone\u001b[39;00m:\n\u001b[0;32m    949\u001b[0m   \u001b[39m# Release the lock early so that multiple threads can perform the call\u001b[39;00m\n\u001b[0;32m    950\u001b[0m   \u001b[39m# in parallel.\u001b[39;00m\n\u001b[0;32m    951\u001b[0m   \u001b[39mself\u001b[39m\u001b[39m.\u001b[39m_lock\u001b[39m.\u001b[39mrelease()\n",
      "File \u001b[1;32mc:\\Users\\lance\\AppData\\Local\\Programs\\Python\\Python310\\lib\\site-packages\\tensorflow\\python\\eager\\function.py:2453\u001b[0m, in \u001b[0;36mFunction.__call__\u001b[1;34m(self, *args, **kwargs)\u001b[0m\n\u001b[0;32m   2450\u001b[0m \u001b[39mwith\u001b[39;00m \u001b[39mself\u001b[39m\u001b[39m.\u001b[39m_lock:\n\u001b[0;32m   2451\u001b[0m   (graph_function,\n\u001b[0;32m   2452\u001b[0m    filtered_flat_args) \u001b[39m=\u001b[39m \u001b[39mself\u001b[39m\u001b[39m.\u001b[39m_maybe_define_function(args, kwargs)\n\u001b[1;32m-> 2453\u001b[0m \u001b[39mreturn\u001b[39;00m graph_function\u001b[39m.\u001b[39;49m_call_flat(\n\u001b[0;32m   2454\u001b[0m     filtered_flat_args, captured_inputs\u001b[39m=\u001b[39;49mgraph_function\u001b[39m.\u001b[39;49mcaptured_inputs)\n",
      "File \u001b[1;32mc:\\Users\\lance\\AppData\\Local\\Programs\\Python\\Python310\\lib\\site-packages\\tensorflow\\python\\eager\\function.py:1860\u001b[0m, in \u001b[0;36mConcreteFunction._call_flat\u001b[1;34m(self, args, captured_inputs, cancellation_manager)\u001b[0m\n\u001b[0;32m   1856\u001b[0m possible_gradient_type \u001b[39m=\u001b[39m gradients_util\u001b[39m.\u001b[39mPossibleTapeGradientTypes(args)\n\u001b[0;32m   1857\u001b[0m \u001b[39mif\u001b[39;00m (possible_gradient_type \u001b[39m==\u001b[39m gradients_util\u001b[39m.\u001b[39mPOSSIBLE_GRADIENT_TYPES_NONE\n\u001b[0;32m   1858\u001b[0m     \u001b[39mand\u001b[39;00m executing_eagerly):\n\u001b[0;32m   1859\u001b[0m   \u001b[39m# No tape is watching; skip to running the function.\u001b[39;00m\n\u001b[1;32m-> 1860\u001b[0m   \u001b[39mreturn\u001b[39;00m \u001b[39mself\u001b[39m\u001b[39m.\u001b[39m_build_call_outputs(\u001b[39mself\u001b[39;49m\u001b[39m.\u001b[39;49m_inference_function\u001b[39m.\u001b[39;49mcall(\n\u001b[0;32m   1861\u001b[0m       ctx, args, cancellation_manager\u001b[39m=\u001b[39;49mcancellation_manager))\n\u001b[0;32m   1862\u001b[0m forward_backward \u001b[39m=\u001b[39m \u001b[39mself\u001b[39m\u001b[39m.\u001b[39m_select_forward_and_backward_functions(\n\u001b[0;32m   1863\u001b[0m     args,\n\u001b[0;32m   1864\u001b[0m     possible_gradient_type,\n\u001b[0;32m   1865\u001b[0m     executing_eagerly)\n\u001b[0;32m   1866\u001b[0m forward_function, args_with_tangents \u001b[39m=\u001b[39m forward_backward\u001b[39m.\u001b[39mforward()\n",
      "File \u001b[1;32mc:\\Users\\lance\\AppData\\Local\\Programs\\Python\\Python310\\lib\\site-packages\\tensorflow\\python\\eager\\function.py:497\u001b[0m, in \u001b[0;36m_EagerDefinedFunction.call\u001b[1;34m(self, ctx, args, cancellation_manager)\u001b[0m\n\u001b[0;32m    495\u001b[0m \u001b[39mwith\u001b[39;00m _InterpolateFunctionError(\u001b[39mself\u001b[39m):\n\u001b[0;32m    496\u001b[0m   \u001b[39mif\u001b[39;00m cancellation_manager \u001b[39mis\u001b[39;00m \u001b[39mNone\u001b[39;00m:\n\u001b[1;32m--> 497\u001b[0m     outputs \u001b[39m=\u001b[39m execute\u001b[39m.\u001b[39;49mexecute(\n\u001b[0;32m    498\u001b[0m         \u001b[39mstr\u001b[39;49m(\u001b[39mself\u001b[39;49m\u001b[39m.\u001b[39;49msignature\u001b[39m.\u001b[39;49mname),\n\u001b[0;32m    499\u001b[0m         num_outputs\u001b[39m=\u001b[39;49m\u001b[39mself\u001b[39;49m\u001b[39m.\u001b[39;49m_num_outputs,\n\u001b[0;32m    500\u001b[0m         inputs\u001b[39m=\u001b[39;49margs,\n\u001b[0;32m    501\u001b[0m         attrs\u001b[39m=\u001b[39;49mattrs,\n\u001b[0;32m    502\u001b[0m         ctx\u001b[39m=\u001b[39;49mctx)\n\u001b[0;32m    503\u001b[0m   \u001b[39melse\u001b[39;00m:\n\u001b[0;32m    504\u001b[0m     outputs \u001b[39m=\u001b[39m execute\u001b[39m.\u001b[39mexecute_with_cancellation(\n\u001b[0;32m    505\u001b[0m         \u001b[39mstr\u001b[39m(\u001b[39mself\u001b[39m\u001b[39m.\u001b[39msignature\u001b[39m.\u001b[39mname),\n\u001b[0;32m    506\u001b[0m         num_outputs\u001b[39m=\u001b[39m\u001b[39mself\u001b[39m\u001b[39m.\u001b[39m_num_outputs,\n\u001b[1;32m   (...)\u001b[0m\n\u001b[0;32m    509\u001b[0m         ctx\u001b[39m=\u001b[39mctx,\n\u001b[0;32m    510\u001b[0m         cancellation_manager\u001b[39m=\u001b[39mcancellation_manager)\n",
      "File \u001b[1;32mc:\\Users\\lance\\AppData\\Local\\Programs\\Python\\Python310\\lib\\site-packages\\tensorflow\\python\\eager\\execute.py:54\u001b[0m, in \u001b[0;36mquick_execute\u001b[1;34m(op_name, num_outputs, inputs, attrs, ctx, name)\u001b[0m\n\u001b[0;32m     52\u001b[0m \u001b[39mtry\u001b[39;00m:\n\u001b[0;32m     53\u001b[0m   ctx\u001b[39m.\u001b[39mensure_initialized()\n\u001b[1;32m---> 54\u001b[0m   tensors \u001b[39m=\u001b[39m pywrap_tfe\u001b[39m.\u001b[39;49mTFE_Py_Execute(ctx\u001b[39m.\u001b[39;49m_handle, device_name, op_name,\n\u001b[0;32m     55\u001b[0m                                       inputs, attrs, num_outputs)\n\u001b[0;32m     56\u001b[0m \u001b[39mexcept\u001b[39;00m core\u001b[39m.\u001b[39m_NotOkStatusException \u001b[39mas\u001b[39;00m e:\n\u001b[0;32m     57\u001b[0m   \u001b[39mif\u001b[39;00m name \u001b[39mis\u001b[39;00m \u001b[39mnot\u001b[39;00m \u001b[39mNone\u001b[39;00m:\n",
      "\u001b[1;31mKeyboardInterrupt\u001b[0m: "
     ]
    }
   ],
   "source": [
    "waveletAlexNet.fit(train_data, validation_data, 128)"
   ]
  },
  {
   "cell_type": "code",
   "execution_count": 13,
   "metadata": {},
   "outputs": [
    {
     "ename": "NameError",
     "evalue": "name 'waveletAlexNet' is not defined",
     "output_type": "error",
     "traceback": [
      "\u001b[1;31m---------------------------------------------------------------------------\u001b[0m",
      "\u001b[1;31mNameError\u001b[0m                                 Traceback (most recent call last)",
      "\u001b[1;32mk:\\PY_DEV\\PROJECTs\\ChestCancerDetection\\CNNs.ipynb Cell 26'\u001b[0m in \u001b[0;36m<cell line: 1>\u001b[1;34m()\u001b[0m\n\u001b[1;32m----> <a href='vscode-notebook-cell:/k%3A/PY_DEV/PROJECTs/ChestCancerDetection/CNNs.ipynb#ch0000025?line=0'>1</a>\u001b[0m CNNModel\u001b[39m.\u001b[39mcompareAccuracy([alexNet,waveletAlexNet])\n",
      "\u001b[1;31mNameError\u001b[0m: name 'waveletAlexNet' is not defined"
     ]
    }
   ],
   "source": [
    "CNNModel.compareAccuracy([alexNet,waveletAlexNet])"
   ]
  },
  {
   "cell_type": "code",
   "execution_count": 14,
   "metadata": {},
   "outputs": [
    {
     "name": "stdout",
     "output_type": "stream",
     "text": [
      "1/1 [==============================] - 3s 3s/step\n",
      "Adenocarcinoma\n"
     ]
    }
   ],
   "source": [
    "alexNet.predict(\"Data/test/adenocarcinoma/000114.png\")"
   ]
  },
  {
   "cell_type": "code",
   "execution_count": null,
   "metadata": {},
   "outputs": [
    {
     "name": "stdout",
     "output_type": "stream",
     "text": [
      "1/1 [==============================] - 0s 332ms/step\n",
      "Adenocarcinoma\n"
     ]
    }
   ],
   "source": [
    "waveletAlexNet.predict(\"Data/test/adenocarcinoma/000114.png\")"
   ]
  }
 ],
 "metadata": {
  "kernelspec": {
   "display_name": "Python 3.10.5 64-bit",
   "language": "python",
   "name": "python3"
  },
  "language_info": {
   "codemirror_mode": {
    "name": "ipython",
    "version": 3
   },
   "file_extension": ".py",
   "mimetype": "text/x-python",
   "name": "python",
   "nbconvert_exporter": "python",
   "pygments_lexer": "ipython3",
   "version": "3.10.5"
  },
  "orig_nbformat": 4,
  "vscode": {
   "interpreter": {
    "hash": "a7552a0d837c159b2659a124684bd992ffda64ad2c77c227e0391db490b77be2"
   }
  }
 },
 "nbformat": 4,
 "nbformat_minor": 2
}
