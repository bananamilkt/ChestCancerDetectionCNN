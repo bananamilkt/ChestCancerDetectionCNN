{
 "cells": [
  {
   "cell_type": "code",
   "execution_count": 10,
   "metadata": {},
   "outputs": [],
   "source": [
    "import os\n",
    "import cv2\n",
    "import pandas as pd\n",
    "import numpy as np\n",
    "import tensorflow as tf\n",
    "import matplotlib.pyplot as plt\n",
    "\n",
    "import warnings\n",
    "warnings.filterwarnings(\"ignore\")"
   ]
  },
  {
   "cell_type": "code",
   "execution_count": 5,
   "metadata": {},
   "outputs": [],
   "source": [
    "train_path = \"Data/train\"\n",
    "val_path = \"Data/valid\"\n",
    "test_path = \"Data/test\""
   ]
  },
  {
   "cell_type": "code",
   "execution_count": 11,
   "metadata": {},
   "outputs": [
    {
     "name": "stdout",
     "output_type": "stream",
     "text": [
      "{'adenocarcinoma_left.lower.lobe_T2_N0_M0_Ib': 195, 'large.cell.carcinoma_left.hilum_T2_N2_M0_IIIa': 115, 'normal': 148, 'squamous.cell.carcinoma_left.hilum_T1_N2_M0_IIIa': 155} \n",
      "\n",
      " {'adenocarcinoma_left.lower.lobe_T2_N0_M0_Ib': 23, 'large.cell.carcinoma_left.hilum_T2_N2_M0_IIIa': 21, 'normal': 13, 'squamous.cell.carcinoma_left.hilum_T1_N2_M0_IIIa': 15} \n",
      "\n",
      " {'adenocarcinoma': 120, 'large.cell.carcinoma': 51, 'normal': 54, 'squamous.cell.carcinoma': 90}\n"
     ]
    }
   ],
   "source": [
    "def GetDatasetSize(path):\n",
    "    num_of_image = {}\n",
    "    for folder in os.listdir(path):\n",
    "        # Counting the Number of Files in the Folder\n",
    "        num_of_image[folder] = len(os.listdir(os.path.join(path, folder)));\n",
    "    return num_of_image;\n",
    "    \n",
    "train_set = GetDatasetSize(train_path)\n",
    "val_set = GetDatasetSize(val_path)\n",
    "test_set = GetDatasetSize(test_path)\n",
    "print(train_set,\"\\n\\n\",val_set,\"\\n\\n\",test_set)"
   ]
  },
  {
   "cell_type": "code",
   "execution_count": 12,
   "metadata": {},
   "outputs": [
    {
     "data": {
      "image/png": "[encoded data removed]",
      "text/plain": [
       "<Figure size 432x288 with 1 Axes>"
      ]
     },
     "metadata": {
      "needs_background": "light"
     },
     "output_type": "display_data"
    }
   ],
   "source": [
    "labels = ['squamous.cell.carcinoma', 'normal', 'adenocarcinoma', 'large.cell.carcinoma']\n",
    "train_list = list(train_set.values())\n",
    "val_list = list(val_set.values())\n",
    "test_list = list(test_set.values())\n",
    "\n",
    "x = np.arange(len(labels))  # the label locations\n",
    "width = 0.25  # the width of the bars\n",
    "\n",
    "fig, ax = plt.subplots()\n",
    "rects1 = ax.bar(x - width, train_list, width, label='Train')\n",
    "rects2 = ax.bar(x, val_list, width, label='Val')\n",
    "rects3 = ax.bar(x + width, test_list, width, label='Test')\n",
    "\n",
    "# Add some text for labels, title and custom x-axis tick labels, etc.\n",
    "ax.set_ylabel('Images Count')\n",
    "ax.set_title('Dataset')\n",
    "ax.set_xticks(x, labels)\n",
    "plt.xticks(rotation=15)\n",
    "ax.legend()\n",
    "\n",
    "ax.bar_label(rects1)\n",
    "ax.bar_label(rects2)\n",
    "ax.bar_label(rects3)\n",
    "\n",
    "fig.tight_layout()\n",
    "plt.show()"
   ]
  },
  {
   "cell_type": "code",
   "execution_count": 13,
   "metadata": {},
   "outputs": [],
   "source": [
    "import tensorflow.keras\n",
    "from tensorflow.keras import layers\n",
    "from tensorflow.keras import Model \n",
    "from tensorflow.keras.models import Sequential\n",
    "from tensorflow.keras.preprocessing import image\n",
    "from tensorflow.keras.callbacks import ModelCheckpoint, EarlyStopping\n",
    "from tensorflow.keras.preprocessing.image import ImageDataGenerator\n",
    "from tensorflow.keras.applications.vgg16 import VGG16, preprocess_input\n",
    "from tensorflow.keras.models import load_model, Model\n",
    "from tensorflow.keras.layers import Dense,Conv2D, Flatten, MaxPool2D, Dropout"
   ]
  },
  {
   "cell_type": "code",
   "execution_count": 14,
   "metadata": {},
   "outputs": [
    {
     "name": "stdout",
     "output_type": "stream",
     "text": [
      "Found 613 images belonging to 4 classes.\n"
     ]
    }
   ],
   "source": [
    "train_datagen = ImageDataGenerator(rescale = 1.0/255.0,\n",
    "                                  horizontal_flip = True,\n",
    "                                  fill_mode = 'nearest',\n",
    "                                  zoom_range=0.2,\n",
    "                                  shear_range = 0.2,\n",
    "                                  width_shift_range=0.2,\n",
    "                                  height_shift_range=0.2,\n",
    "                                  rotation_range=0.4)\n",
    "\n",
    "train_data = train_datagen.flow_from_directory(train_path,\n",
    "                                                   batch_size = 5,\n",
    "                                                   target_size = (350,350),\n",
    "                                                   class_mode = 'categorical')"
   ]
  },
  {
   "cell_type": "code",
   "execution_count": 15,
   "metadata": {},
   "outputs": [
    {
     "data": {
      "text/plain": [
       "{'adenocarcinoma_left.lower.lobe_T2_N0_M0_Ib': 0,\n",
       " 'large.cell.carcinoma_left.hilum_T2_N2_M0_IIIa': 1,\n",
       " 'normal': 2,\n",
       " 'squamous.cell.carcinoma_left.hilum_T1_N2_M0_IIIa': 3}"
      ]
     },
     "execution_count": 15,
     "metadata": {},
     "output_type": "execute_result"
    }
   ],
   "source": [
    "train_data.class_indices"
   ]
  },
  {
   "cell_type": "code",
   "execution_count": 16,
   "metadata": {},
   "outputs": [
    {
     "name": "stdout",
     "output_type": "stream",
     "text": [
      "Found 72 images belonging to 4 classes.\n"
     ]
    }
   ],
   "source": [
    "val_datagen = ImageDataGenerator(rescale = 1.0/255.0)\n",
    "val_data = val_datagen.flow_from_directory(val_path,\n",
    "                                                   batch_size = 5,\n",
    "                                                   target_size = (350,350),\n",
    "                                                   class_mode = 'categorical')"
   ]
  },
  {
   "cell_type": "code",
   "execution_count": 17,
   "metadata": {},
   "outputs": [
    {
     "data": {
      "text/plain": [
       "{'adenocarcinoma_left.lower.lobe_T2_N0_M0_Ib': 0,\n",
       " 'large.cell.carcinoma_left.hilum_T2_N2_M0_IIIa': 1,\n",
       " 'normal': 2,\n",
       " 'squamous.cell.carcinoma_left.hilum_T1_N2_M0_IIIa': 3}"
      ]
     },
     "execution_count": 17,
     "metadata": {},
     "output_type": "execute_result"
    }
   ],
   "source": [
    "val_data.class_indices"
   ]
  },
  {
   "cell_type": "code",
   "execution_count": 18,
   "metadata": {},
   "outputs": [
    {
     "name": "stdout",
     "output_type": "stream",
     "text": [
      "Found 315 images belonging to 4 classes.\n"
     ]
    }
   ],
   "source": [
    "test_datagen = ImageDataGenerator(rescale = 1.0/255.0)\n",
    "test_data = test_datagen.flow_from_directory(test_path,\n",
    "                                                   batch_size = 5,\n",
    "                                                   target_size = (350,350),\n",
    "                                                   class_mode = 'categorical')"
   ]
  },
  {
   "cell_type": "code",
   "execution_count": 19,
   "metadata": {},
   "outputs": [
    {
     "data": {
      "text/plain": [
       "{'adenocarcinoma': 0,\n",
       " 'large.cell.carcinoma': 1,\n",
       " 'normal': 2,\n",
       " 'squamous.cell.carcinoma': 3}"
      ]
     },
     "execution_count": 19,
     "metadata": {},
     "output_type": "execute_result"
    }
   ],
   "source": [
    "test_data.class_indices"
   ]
  },
  {
   "cell_type": "code",
   "execution_count": 20,
   "metadata": {},
   "outputs": [
    {
     "name": "stdout",
     "output_type": "stream",
     "text": [
      "Downloading data from https://storage.googleapis.com/tensorflow/keras-applications/resnet/resnet50_weights_tf_dim_ordering_tf_kernels_notop.h5\n",
      "94773248/94765736 [==============================] - 9s 0us/step\n",
      "94781440/94765736 [==============================] - 9s 0us/step\n"
     ]
    }
   ],
   "source": [
    "from tensorflow.keras.applications import ResNet50\n",
    "\n",
    "base_model = ResNet50(input_shape=(350, 350,3),\n",
    "                      include_top=False, weights=\"imagenet\", \n",
    "                      pooling='max')"
   ]
  },
  {
   "cell_type": "code",
   "execution_count": 21,
   "metadata": {},
   "outputs": [],
   "source": [
    "for layer in base_model.layers:\n",
    "    layer.trainable = False"
   ]
  },
  {
   "cell_type": "code",
   "execution_count": 22,
   "metadata": {},
   "outputs": [],
   "source": [
    "model_resnet = Sequential()\n",
    "model_resnet.add(base_model)\n",
    "model_resnet.add(Dense(4, activation='sigmoid'))"
   ]
  },
  {
   "cell_type": "code",
   "execution_count": 23,
   "metadata": {},
   "outputs": [],
   "source": [
    "model_resnet.compile(optimizer = tf.keras.optimizers.SGD(learning_rate=0.0001), \n",
    "                     loss = 'categorical_crossentropy', \n",
    "                     metrics = ['accuracy'])"
   ]
  },
  {
   "cell_type": "code",
   "execution_count": 24,
   "metadata": {},
   "outputs": [],
   "source": [
    "mc = ModelCheckpoint(\n",
    "    filepath=\"./ct_resnet_best_model.hdf5\",\n",
    "    monitor= 'val_accuracy', \n",
    "    verbose= 1,\n",
    "    save_best_only= True, \n",
    "    mode = 'auto'\n",
    "    );\n",
    "\n",
    "call_back = [mc];"
   ]
  },
  {
   "cell_type": "code",
   "execution_count": 25,
   "metadata": {},
   "outputs": [
    {
     "name": "stdout",
     "output_type": "stream",
     "text": [
      "Epoch 1/32\n",
      "122/122 [==============================] - ETA: 0s - loss: 1.6968 - accuracy: 0.3783\n",
      "Epoch 1: val_accuracy improved from -inf to 0.42857, saving model to .\\ct_resnet_best_model.hdf5\n",
      "122/122 [==============================] - 52s 412ms/step - loss: 1.6968 - accuracy: 0.3783 - val_loss: 1.2738 - val_accuracy: 0.4286\n",
      "Epoch 2/32\n",
      "122/122 [==============================] - ETA: 0s - loss: 1.2291 - accuracy: 0.4424\n",
      "Epoch 2: val_accuracy did not improve from 0.42857\n",
      "122/122 [==============================] - 49s 400ms/step - loss: 1.2291 - accuracy: 0.4424 - val_loss: 1.1034 - val_accuracy: 0.4286\n",
      "Epoch 3/32\n",
      "122/122 [==============================] - ETA: 0s - loss: 1.1956 - accuracy: 0.4030\n",
      "Epoch 3: val_accuracy improved from 0.42857 to 0.50000, saving model to .\\ct_resnet_best_model.hdf5\n",
      "122/122 [==============================] - 49s 403ms/step - loss: 1.1956 - accuracy: 0.4030 - val_loss: 1.0916 - val_accuracy: 0.5000\n",
      "Epoch 4/32\n",
      "122/122 [==============================] - ETA: 0s - loss: 1.1663 - accuracy: 0.4243\n",
      "Epoch 4: val_accuracy did not improve from 0.50000\n",
      "122/122 [==============================] - 50s 412ms/step - loss: 1.1663 - accuracy: 0.4243 - val_loss: 1.1898 - val_accuracy: 0.4000\n",
      "Epoch 5/32\n",
      "122/122 [==============================] - ETA: 0s - loss: 1.1209 - accuracy: 0.4737\n",
      "Epoch 5: val_accuracy did not improve from 0.50000\n",
      "122/122 [==============================] - 46s 373ms/step - loss: 1.1209 - accuracy: 0.4737 - val_loss: 1.1052 - val_accuracy: 0.4571\n",
      "Epoch 6/32\n",
      "122/122 [==============================] - ETA: 0s - loss: 1.1260 - accuracy: 0.4539\n",
      "Epoch 6: val_accuracy did not improve from 0.50000\n",
      "122/122 [==============================] - 46s 381ms/step - loss: 1.1260 - accuracy: 0.4539 - val_loss: 1.0111 - val_accuracy: 0.5000\n",
      "Epoch 7/32\n",
      "122/122 [==============================] - ETA: 0s - loss: 1.1344 - accuracy: 0.4276\n",
      "Epoch 7: val_accuracy improved from 0.50000 to 0.52857, saving model to .\\ct_resnet_best_model.hdf5\n",
      "122/122 [==============================] - 49s 398ms/step - loss: 1.1344 - accuracy: 0.4276 - val_loss: 1.0048 - val_accuracy: 0.5286\n",
      "Epoch 8/32\n",
      "122/122 [==============================] - ETA: 0s - loss: 1.1169 - accuracy: 0.4474\n",
      "Epoch 8: val_accuracy did not improve from 0.52857\n",
      "122/122 [==============================] - 47s 385ms/step - loss: 1.1169 - accuracy: 0.4474 - val_loss: 0.9834 - val_accuracy: 0.5286\n",
      "Epoch 9/32\n",
      "122/122 [==============================] - ETA: 0s - loss: 1.1078 - accuracy: 0.4359\n",
      "Epoch 9: val_accuracy did not improve from 0.52857\n",
      "122/122 [==============================] - 47s 383ms/step - loss: 1.1078 - accuracy: 0.4359 - val_loss: 1.0934 - val_accuracy: 0.4714\n",
      "Epoch 10/32\n",
      "122/122 [==============================] - ETA: 0s - loss: 1.0651 - accuracy: 0.4786\n",
      "Epoch 10: val_accuracy did not improve from 0.52857\n",
      "122/122 [==============================] - 45s 366ms/step - loss: 1.0651 - accuracy: 0.4786 - val_loss: 1.1518 - val_accuracy: 0.3571\n",
      "Epoch 11/32\n",
      "122/122 [==============================] - ETA: 0s - loss: 1.0747 - accuracy: 0.4671\n",
      "Epoch 11: val_accuracy did not improve from 0.52857\n",
      "122/122 [==============================] - 47s 382ms/step - loss: 1.0747 - accuracy: 0.4671 - val_loss: 1.2124 - val_accuracy: 0.4714\n",
      "Epoch 12/32\n",
      "122/122 [==============================] - ETA: 0s - loss: 1.0831 - accuracy: 0.4622\n",
      "Epoch 12: val_accuracy did not improve from 0.52857\n",
      "122/122 [==============================] - 46s 377ms/step - loss: 1.0831 - accuracy: 0.4622 - val_loss: 1.0226 - val_accuracy: 0.5000\n",
      "Epoch 13/32\n",
      "122/122 [==============================] - ETA: 0s - loss: 1.0966 - accuracy: 0.4490\n",
      "Epoch 13: val_accuracy did not improve from 0.52857\n",
      "122/122 [==============================] - 46s 374ms/step - loss: 1.0966 - accuracy: 0.4490 - val_loss: 0.9917 - val_accuracy: 0.4714\n",
      "Epoch 14/32\n",
      "122/122 [==============================] - ETA: 0s - loss: 1.0917 - accuracy: 0.4424\n",
      "Epoch 14: val_accuracy did not improve from 0.52857\n",
      "122/122 [==============================] - 46s 375ms/step - loss: 1.0917 - accuracy: 0.4424 - val_loss: 1.0138 - val_accuracy: 0.4857\n",
      "Epoch 15/32\n",
      "122/122 [==============================] - ETA: 0s - loss: 1.0671 - accuracy: 0.4671\n",
      "Epoch 15: val_accuracy did not improve from 0.52857\n",
      "122/122 [==============================] - 47s 387ms/step - loss: 1.0671 - accuracy: 0.4671 - val_loss: 1.0143 - val_accuracy: 0.4857\n",
      "Epoch 16/32\n",
      "122/122 [==============================] - ETA: 0s - loss: 1.0792 - accuracy: 0.4638\n",
      "Epoch 16: val_accuracy did not improve from 0.52857\n",
      "122/122 [==============================] - 47s 381ms/step - loss: 1.0792 - accuracy: 0.4638 - val_loss: 1.0313 - val_accuracy: 0.3571\n",
      "Epoch 17/32\n",
      "122/122 [==============================] - ETA: 0s - loss: 1.0578 - accuracy: 0.4786\n",
      "Epoch 17: val_accuracy did not improve from 0.52857\n",
      "122/122 [==============================] - 45s 367ms/step - loss: 1.0578 - accuracy: 0.4786 - val_loss: 0.9923 - val_accuracy: 0.4286\n",
      "Epoch 18/32\n",
      "122/122 [==============================] - ETA: 0s - loss: 1.0651 - accuracy: 0.4868\n",
      "Epoch 18: val_accuracy did not improve from 0.52857\n",
      "122/122 [==============================] - 49s 398ms/step - loss: 1.0651 - accuracy: 0.4868 - val_loss: 1.1683 - val_accuracy: 0.4857\n",
      "Epoch 19/32\n",
      "122/122 [==============================] - ETA: 0s - loss: 1.0664 - accuracy: 0.4803\n",
      "Epoch 19: val_accuracy did not improve from 0.52857\n",
      "122/122 [==============================] - 46s 373ms/step - loss: 1.0664 - accuracy: 0.4803 - val_loss: 1.0135 - val_accuracy: 0.4857\n",
      "Epoch 20/32\n",
      "122/122 [==============================] - ETA: 0s - loss: 1.0510 - accuracy: 0.4852\n",
      "Epoch 20: val_accuracy did not improve from 0.52857\n",
      "122/122 [==============================] - 45s 366ms/step - loss: 1.0510 - accuracy: 0.4852 - val_loss: 0.9872 - val_accuracy: 0.4857\n",
      "Epoch 21/32\n",
      "122/122 [==============================] - ETA: 0s - loss: 1.0548 - accuracy: 0.5016\n",
      "Epoch 21: val_accuracy did not improve from 0.52857\n",
      "122/122 [==============================] - 46s 374ms/step - loss: 1.0548 - accuracy: 0.5016 - val_loss: 1.0665 - val_accuracy: 0.4857\n",
      "Epoch 22/32\n",
      "122/122 [==============================] - ETA: 0s - loss: 1.0774 - accuracy: 0.4803\n",
      "Epoch 22: val_accuracy did not improve from 0.52857\n",
      "122/122 [==============================] - 47s 384ms/step - loss: 1.0774 - accuracy: 0.4803 - val_loss: 0.9860 - val_accuracy: 0.4286\n",
      "Epoch 23/32\n",
      "122/122 [==============================] - ETA: 0s - loss: 1.0391 - accuracy: 0.4852\n",
      "Epoch 23: val_accuracy did not improve from 0.52857\n",
      "122/122 [==============================] - 44s 362ms/step - loss: 1.0391 - accuracy: 0.4852 - val_loss: 1.0390 - val_accuracy: 0.3714\n",
      "Epoch 24/32\n",
      "122/122 [==============================] - ETA: 0s - loss: 1.0694 - accuracy: 0.4671\n",
      "Epoch 24: val_accuracy did not improve from 0.52857\n",
      "122/122 [==============================] - 45s 367ms/step - loss: 1.0694 - accuracy: 0.4671 - val_loss: 1.0696 - val_accuracy: 0.5143\n",
      "Epoch 25/32\n",
      "122/122 [==============================] - ETA: 0s - loss: 1.0467 - accuracy: 0.4753\n",
      "Epoch 25: val_accuracy did not improve from 0.52857\n",
      "122/122 [==============================] - 47s 384ms/step - loss: 1.0467 - accuracy: 0.4753 - val_loss: 1.0538 - val_accuracy: 0.4571\n",
      "Epoch 26/32\n",
      "122/122 [==============================] - ETA: 0s - loss: 1.0591 - accuracy: 0.4605\n",
      "Epoch 26: val_accuracy did not improve from 0.52857\n",
      "122/122 [==============================] - 47s 382ms/step - loss: 1.0591 - accuracy: 0.4605 - val_loss: 1.0832 - val_accuracy: 0.4714\n",
      "Epoch 27/32\n",
      "122/122 [==============================] - ETA: 0s - loss: 1.0433 - accuracy: 0.5082\n",
      "Epoch 27: val_accuracy did not improve from 0.52857\n",
      "122/122 [==============================] - 47s 387ms/step - loss: 1.0433 - accuracy: 0.5082 - val_loss: 1.0145 - val_accuracy: 0.4714\n",
      "Epoch 28/32\n",
      "122/122 [==============================] - ETA: 0s - loss: 1.0490 - accuracy: 0.4786\n",
      "Epoch 28: val_accuracy did not improve from 0.52857\n",
      "122/122 [==============================] - 47s 388ms/step - loss: 1.0490 - accuracy: 0.4786 - val_loss: 1.0088 - val_accuracy: 0.4000\n",
      "Epoch 29/32\n",
      "122/122 [==============================] - ETA: 0s - loss: 1.0241 - accuracy: 0.4770\n",
      "Epoch 29: val_accuracy did not improve from 0.52857\n",
      "122/122 [==============================] - 46s 381ms/step - loss: 1.0241 - accuracy: 0.4770 - val_loss: 1.1041 - val_accuracy: 0.4000\n",
      "Epoch 30/32\n",
      "122/122 [==============================] - ETA: 0s - loss: 1.0312 - accuracy: 0.5148\n",
      "Epoch 30: val_accuracy did not improve from 0.52857\n",
      "122/122 [==============================] - 47s 382ms/step - loss: 1.0312 - accuracy: 0.5148 - val_loss: 1.0681 - val_accuracy: 0.4000\n",
      "Epoch 31/32\n",
      "122/122 [==============================] - ETA: 0s - loss: 1.0459 - accuracy: 0.4688\n",
      "Epoch 31: val_accuracy did not improve from 0.52857\n",
      "122/122 [==============================] - 47s 384ms/step - loss: 1.0459 - accuracy: 0.4688 - val_loss: 0.9660 - val_accuracy: 0.4714\n",
      "Epoch 32/32\n",
      "122/122 [==============================] - ETA: 0s - loss: 1.0404 - accuracy: 0.4934\n",
      "Epoch 32: val_accuracy did not improve from 0.52857\n",
      "122/122 [==============================] - 48s 390ms/step - loss: 1.0404 - accuracy: 0.4934 - val_loss: 0.9602 - val_accuracy: 0.4857\n"
     ]
    }
   ],
   "source": [
    "resnet = model_resnet.fit(\n",
    "    train_data, \n",
    "    steps_per_epoch = train_data.samples//train_data.batch_size, \n",
    "    epochs = 32, \n",
    "    validation_data = val_data, \n",
    "    validation_steps = val_data.samples//val_data.batch_size,\n",
    "    callbacks = call_back \n",
    "    )"
   ]
  },
  {
   "cell_type": "code",
   "execution_count": 26,
   "metadata": {},
   "outputs": [],
   "source": [
    "model = load_model(\"./ct_resnet_best_model.hdf5\")"
   ]
  },
  {
   "cell_type": "code",
   "execution_count": 27,
   "metadata": {},
   "outputs": [
    {
     "name": "stdout",
     "output_type": "stream",
     "text": [
      "The accuracy of the model is = 51.74603462219238 %\n"
     ]
    }
   ],
   "source": [
    "accuracy_resnet = model.evaluate_generator(generator= test_data)[1] \n",
    "print(f\"The accuracy of the model is = {accuracy_resnet*100} %\")"
   ]
  },
  {
   "cell_type": "code",
   "execution_count": 28,
   "metadata": {},
   "outputs": [],
   "source": [
    "def chestScanPrediction(path, _model):\n",
    "    classes_dir = [\"Adenocarcinoma\",\"Large cell carcinoma\",\"Normal\",\"Squamous cell carcinoma\"]\n",
    "    # Loading Image\n",
    "    img = image.load_img(path, target_size=(350,350))\n",
    "    # Normalizing Image\n",
    "    norm_img = image.img_to_array(img)/255\n",
    "    # Converting Image to Numpy Array\n",
    "    input_arr_img = np.array([norm_img])\n",
    "    # Getting Predictions\n",
    "    pred = np.argmax(_model.predict(input_arr_img))\n",
    "    # Printing Model Prediction\n",
    "    print(classes_dir[pred])"
   ]
  },
  {
   "cell_type": "code",
   "execution_count": 40,
   "metadata": {},
   "outputs": [
    {
     "name": "stdout",
     "output_type": "stream",
     "text": [
      "Adenocarcinoma\n"
     ]
    }
   ],
   "source": [
    "path = \"Data/test/adenocarcinoma/000121.png\"\n",
    "chestScanPrediction(path,model_resnet)"
   ]
  }
 ],
 "metadata": {
  "kernelspec": {
   "display_name": "Python 3.10.0 64-bit",
   "language": "python",
   "name": "python3"
  },
  "language_info": {
   "codemirror_mode": {
    "name": "ipython",
    "version": 3
   },
   "file_extension": ".py",
   "mimetype": "text/x-python",
   "name": "python",
   "nbconvert_exporter": "python",
   "pygments_lexer": "ipython3",
   "version": "3.10.0"
  },
  "orig_nbformat": 4,
  "vscode": {
   "interpreter": {
    "hash": "a7552a0d837c159b2659a124684bd992ffda64ad2c77c227e0391db490b77be2"
   }
  }
 },
 "nbformat": 4,
 "nbformat_minor": 2
}
